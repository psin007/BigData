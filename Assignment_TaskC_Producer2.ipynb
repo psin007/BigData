{
 "cells": [
  {
   "cell_type": "code",
   "execution_count": 1,
   "metadata": {},
   "outputs": [],
   "source": [
    "#!pip3 install pandas"
   ]
  },
  {
   "cell_type": "code",
   "execution_count": 2,
   "metadata": {},
   "outputs": [],
   "source": [
    "#!pip3 install numpy==1.15.1 --user"
   ]
  },
  {
   "cell_type": "code",
   "execution_count": 3,
   "metadata": {},
   "outputs": [
    {
     "name": "stdout",
     "output_type": "stream",
     "text": [
      "Publishing records..\n",
      "Message published successfully. Data: 22:52:11&aqua_Data&{'surface_temperature_celcius': 52, 'confidence': 79, 'latitude': -36.8416, 'longitude': 143.4597}\n",
      "Message published successfully. Data: 22:52:29&aqua_Data&{'surface_temperature_celcius': 56, 'confidence': 83, 'latitude': -36.5465, 'longitude': 142.0912}\n",
      "Message published successfully. Data: 22:52:42&aqua_Data&{'surface_temperature_celcius': 45, 'confidence': 70, 'latitude': -37.4785, 'longitude': 142.6307}\n",
      "Message published successfully. Data: 22:53:00&aqua_Data&{'surface_temperature_celcius': 75, 'confidence': 95, 'latitude': -36.9959, 'longitude': 148.2118}\n",
      "Message published successfully. Data: 22:53:16&aqua_Data&{'surface_temperature_celcius': 46, 'confidence': 71, 'latitude': -37.885, 'longitude': 143.9387}\n",
      "Message published successfully. Data: 22:53:40&aqua_Data&{'surface_temperature_celcius': 47, 'confidence': 74, 'latitude': -36.765, 'longitude': 144.176}\n",
      "Message published successfully. Data: 22:53:52&aqua_Data&{'surface_temperature_celcius': 46, 'confidence': 71, 'latitude': -36.1247, 'longitude': 145.1437}\n",
      "Message published successfully. Data: 22:54:03&aqua_Data&{'surface_temperature_celcius': 44, 'confidence': 68, 'latitude': -36.6306, 'longitude': 143.8908}\n",
      "Message published successfully. Data: 22:54:18&aqua_Data&{'surface_temperature_celcius': 59, 'confidence': 84, 'latitude': -37.384, 'longitude': 149.336}\n"
     ]
    },
    {
     "ename": "KeyboardInterrupt",
     "evalue": "",
     "output_type": "error",
     "traceback": [
      "\u001b[0;31m---------------------------------------------------------------------------\u001b[0m",
      "\u001b[0;31mKeyboardInterrupt\u001b[0m                         Traceback (most recent call last)",
      "\u001b[0;32m<ipython-input-3-164ace98a73a>\u001b[0m in \u001b[0;36m<module>\u001b[0;34m()\u001b[0m\n\u001b[1;32m     49\u001b[0m         \u001b[0mpublish_message\u001b[0m\u001b[0;34m(\u001b[0m\u001b[0mproducer\u001b[0m\u001b[0;34m,\u001b[0m \u001b[0mtopic\u001b[0m\u001b[0;34m,\u001b[0m \u001b[0;34m'parsed'\u001b[0m\u001b[0;34m,\u001b[0m \u001b[0mdata\u001b[0m\u001b[0;34m)\u001b[0m\u001b[0;34m\u001b[0m\u001b[0m\n\u001b[1;32m     50\u001b[0m         \u001b[0mtime\u001b[0m \u001b[0;34m=\u001b[0m \u001b[0mrandom\u001b[0m\u001b[0;34m.\u001b[0m\u001b[0mrandrange\u001b[0m\u001b[0;34m(\u001b[0m\u001b[0;36m10\u001b[0m\u001b[0;34m,\u001b[0m\u001b[0;36m30\u001b[0m\u001b[0;34m)\u001b[0m\u001b[0;34m\u001b[0m\u001b[0m\n\u001b[0;32m---> 51\u001b[0;31m         \u001b[0msleep\u001b[0m\u001b[0;34m(\u001b[0m\u001b[0mtime\u001b[0m\u001b[0;34m)\u001b[0m\u001b[0;34m\u001b[0m\u001b[0m\n\u001b[0m",
      "\u001b[0;31mKeyboardInterrupt\u001b[0m: "
     ]
    }
   ],
   "source": [
    "# import statements\n",
    "import pandas as pd\n",
    "import json as json\n",
    "from time import sleep\n",
    "from json import dumps\n",
    "from kafka import KafkaProducer\n",
    "import random\n",
    "import datetime as dt\n",
    "import random\n",
    "\n",
    "\n",
    "\n",
    "def publish_message(producer_instance, topic_name, key, value):\n",
    "    try:\n",
    "        key_bytes = bytes(key, encoding='utf-8')\n",
    "        value_bytes = bytes(value, encoding='utf-8')\n",
    "        producer_instance.send(topic_name, key=key_bytes, value=value_bytes)\n",
    "        producer_instance.flush()\n",
    "        print('Message published successfully. Data: ' + str(value))\n",
    "    except Exception as ex:\n",
    "        print('Exception in publishing message.')\n",
    "        print(str(ex))\n",
    "        \n",
    "def connect_kafka_producer():\n",
    "    _producer = None\n",
    "    try:\n",
    "        _producer = KafkaProducer(bootstrap_servers=['localhost:9092'],\n",
    "                                  api_version=(0, 10))\n",
    "    except Exception as ex:\n",
    "        print('Exception while connecting Kafka.')\n",
    "        print(str(ex))\n",
    "    finally:\n",
    "        return _producer\n",
    "    \n",
    "if __name__ == '__main__':\n",
    "   \n",
    "    topic = 'climate_hotspot'\n",
    "    \n",
    "    print('Publishing records..')\n",
    "    producer = connect_kafka_producer()\n",
    "    \n",
    "    doc=pd.read_csv(\"hotspot_AQUA_streaming.csv\")\n",
    "    jsonFile = json.loads(doc.to_json(orient='records'))\n",
    "    #random.randrange(0,100)\n",
    "    jLength = len(jsonFile)\n",
    "    for a in range(0,len(jsonFile)):\n",
    "    \n",
    "        data = str(dt.datetime.now().strftime(\"%X\")) + '&' + 'aqua_Data'+ '&'+str(jsonFile[random.randrange(0,jLength)])\n",
    "        publish_message(producer, topic, 'parsed', data)\n",
    "        time = random.randrange(10,30)\n",
    "        sleep(time) "
   ]
  },
  {
   "cell_type": "code",
   "execution_count": null,
   "metadata": {},
   "outputs": [],
   "source": []
  },
  {
   "cell_type": "code",
   "execution_count": null,
   "metadata": {},
   "outputs": [],
   "source": []
  }
 ],
 "metadata": {
  "kernelspec": {
   "display_name": "Python 3",
   "language": "python",
   "name": "python3"
  },
  "language_info": {
   "codemirror_mode": {
    "name": "ipython",
    "version": 3
   },
   "file_extension": ".py",
   "mimetype": "text/x-python",
   "name": "python",
   "nbconvert_exporter": "python",
   "pygments_lexer": "ipython3",
   "version": "3.5.2"
  }
 },
 "nbformat": 4,
 "nbformat_minor": 2
}
