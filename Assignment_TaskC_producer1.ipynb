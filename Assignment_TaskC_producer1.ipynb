{
 "cells": [
  {
   "cell_type": "code",
   "execution_count": 1,
   "metadata": {},
   "outputs": [],
   "source": [
    "#!pip3 install pandas"
   ]
  },
  {
   "cell_type": "code",
   "execution_count": 2,
   "metadata": {},
   "outputs": [],
   "source": [
    "#!pip3 install numpy==1.15.1 --user"
   ]
  },
  {
   "cell_type": "code",
   "execution_count": 3,
   "metadata": {},
   "outputs": [
    {
     "name": "stdout",
     "output_type": "stream",
     "text": [
      "Publishing records..\n",
      "Message published successfully. Data: 22:52:01&climate_data&{'Climate': {'longitude': 149.33, 'latitude': -37.591, 'relative_humidity': 46.7, 'precipitation ': ' 0.00I', 'windspeed_knots': 10.0, 'air_temperature_celcius': 16, 'max_wind_speed': 16.9}}\n",
      "Message published successfully. Data: 22:52:06&climate_data&{'Climate': {'longitude': 141.088, 'latitude': -35.957, 'relative_humidity': 42.4, 'precipitation ': ' 0.00I', 'windspeed_knots': 7.2, 'air_temperature_celcius': 9, 'max_wind_speed': 9.9}}\n",
      "Message published successfully. Data: 22:52:11&climate_data&{'Climate': {'longitude': 141.505, 'latitude': -36.2111, 'relative_humidity': 55.5, 'precipitation ': ' 0.00I', 'windspeed_knots': 7.9, 'air_temperature_celcius': 24, 'max_wind_speed': 15.0}}\n",
      "Message published successfully. Data: 22:52:16&climate_data&{'Climate': {'longitude': 148.102, 'latitude': -37.46, 'relative_humidity': 46.3, 'precipitation ': ' 0.08G', 'windspeed_knots': 4.6, 'air_temperature_celcius': 10, 'max_wind_speed': 8.0}}\n",
      "Message published successfully. Data: 22:52:21&climate_data&{'Climate': {'longitude': 146.149, 'latitude': -36.294, 'relative_humidity': 57.7, 'precipitation ': ' 0.00I', 'windspeed_knots': 9.9, 'air_temperature_celcius': 20, 'max_wind_speed': 18.1}}\n",
      "Message published successfully. Data: 22:52:26&climate_data&{'Climate': {'longitude': 149.324, 'latitude': -37.603, 'relative_humidity': 53.6, 'precipitation ': ' 0.16G', 'windspeed_knots': 12.1, 'air_temperature_celcius': 16, 'max_wind_speed': 16.9}}\n",
      "Message published successfully. Data: 22:52:31&climate_data&{'Climate': {'longitude': 141.182, 'latitude': -37.229, 'relative_humidity': 44.5, 'precipitation ': ' 0.01G', 'windspeed_knots': 4.7, 'air_temperature_celcius': 8, 'max_wind_speed': 7.0}}\n",
      "Message published successfully. Data: 22:52:36&climate_data&{'Climate': {'longitude': 148.895, 'latitude': -37.538, 'relative_humidity': 37.1, 'precipitation ': ' 0.00I', 'windspeed_knots': 5.8, 'air_temperature_celcius': 6, 'max_wind_speed': 9.9}}\n",
      "Message published successfully. Data: 22:52:41&climate_data&{'Climate': {'longitude': 146.154, 'latitude': -36.275, 'relative_humidity': 53.3, 'precipitation ': ' 0.00I', 'windspeed_knots': 7.9, 'air_temperature_celcius': 18, 'max_wind_speed': 14.0}}\n",
      "Message published successfully. Data: 22:52:46&climate_data&{'Climate': {'longitude': 143.375, 'latitude': -37.332, 'relative_humidity': 51.7, 'precipitation ': ' 0.00I', 'windspeed_knots': 7.2, 'air_temperature_celcius': 21, 'max_wind_speed': 13.0}}\n",
      "Message published successfully. Data: 22:52:51&climate_data&{'Climate': {'longitude': 143.1666, 'latitude': -36.2212, 'relative_humidity': 44.2, 'precipitation ': ' 0.00I', 'windspeed_knots': 5.8, 'air_temperature_celcius': 11, 'max_wind_speed': 9.9}}\n",
      "Message published successfully. Data: 22:52:56&climate_data&{'Climate': {'longitude': 143.791, 'latitude': -35.962, 'relative_humidity': 49.9, 'precipitation ': ' 0.00G', 'windspeed_knots': 6.8, 'air_temperature_celcius': 14, 'max_wind_speed': 15.9}}\n",
      "Message published successfully. Data: 22:53:01&climate_data&{'Climate': {'longitude': 143.365, 'latitude': -37.475, 'relative_humidity': 49.9, 'precipitation ': ' 0.24G', 'windspeed_knots': 12.2, 'air_temperature_celcius': 17, 'max_wind_speed': 21.0}}\n",
      "Message published successfully. Data: 22:53:06&climate_data&{'Climate': {'longitude': 146.154, 'latitude': -36.275, 'relative_humidity': 53.3, 'precipitation ': ' 0.00I', 'windspeed_knots': 7.9, 'air_temperature_celcius': 18, 'max_wind_speed': 14.0}}\n",
      "Message published successfully. Data: 22:53:11&climate_data&{'Climate': {'longitude': 148.067, 'latitude': -37.401, 'relative_humidity': 42.5, 'precipitation ': ' 0.04G', 'windspeed_knots': 14.0, 'air_temperature_celcius': 13, 'max_wind_speed': 19.0}}\n",
      "Message published successfully. Data: 22:53:16&climate_data&{'Climate': {'longitude': 149.324, 'latitude': -37.603, 'relative_humidity': 53.6, 'precipitation ': ' 0.16G', 'windspeed_knots': 12.1, 'air_temperature_celcius': 16, 'max_wind_speed': 16.9}}\n",
      "Message published successfully. Data: 22:53:21&climate_data&{'Climate': {'longitude': 149.261, 'latitude': -37.627, 'relative_humidity': 53.7, 'precipitation ': ' 0.00I', 'windspeed_knots': 8.7, 'air_temperature_celcius': 26, 'max_wind_speed': 15.0}}\n",
      "Message published successfully. Data: 22:53:26&climate_data&{'Climate': {'longitude': 141.0238, 'latitude': -37.0899, 'relative_humidity': 42.2, 'precipitation ': ' 0.01G', 'windspeed_knots': 6.4, 'air_temperature_celcius': 9, 'max_wind_speed': 9.9}}\n",
      "Message published successfully. Data: 22:53:31&climate_data&{'Climate': {'longitude': 148.088, 'latitude': -37.436, 'relative_humidity': 41.5, 'precipitation ': ' 0.00I', 'windspeed_knots': 17.0, 'air_temperature_celcius': 15, 'max_wind_speed': 28.9}}\n",
      "Message published successfully. Data: 22:53:36&climate_data&{'Climate': {'longitude': 141.153, 'latitude': -37.242, 'relative_humidity': 42.8, 'precipitation ': ' 0.04G', 'windspeed_knots': 12.1, 'air_temperature_celcius': 12, 'max_wind_speed': 19.0}}\n",
      "Message published successfully. Data: 22:53:41&climate_data&{'Climate': {'longitude': 142.0391, 'latitude': -36.837, 'relative_humidity': 55.8, 'precipitation ': ' 0.00I', 'windspeed_knots': 6.0, 'air_temperature_celcius': 19, 'max_wind_speed': 11.1}}\n",
      "Message published successfully. Data: 22:53:46&climate_data&{'Climate': {'longitude': 143.841, 'latitude': -38.167, 'relative_humidity': 58.1, 'precipitation ': ' 0.00G', 'windspeed_knots': 5.3, 'air_temperature_celcius': 21, 'max_wind_speed': 11.1}}\n",
      "Message published successfully. Data: 22:53:51&climate_data&{'Climate': {'longitude': 144.0433, 'latitude': -36.1704, 'relative_humidity': 41.7, 'precipitation ': ' 0.00I', 'windspeed_knots': 8.7, 'air_temperature_celcius': 11, 'max_wind_speed': 19.0}}\n",
      "Message published successfully. Data: 22:53:56&climate_data&{'Climate': {'longitude': 142.0839, 'latitude': -36.5243, 'relative_humidity': 43.9, 'precipitation ': ' 0.00G', 'windspeed_knots': 5.7, 'air_temperature_celcius': 9, 'max_wind_speed': 9.9}}\n",
      "Message published successfully. Data: 22:54:01&climate_data&{'Climate': {'longitude': 143.1906, 'latitude': -36.2669, 'relative_humidity': 42.7, 'precipitation ': ' 0.01G', 'windspeed_knots': 10.0, 'air_temperature_celcius': 12, 'max_wind_speed': 15.9}}\n",
      "Message published successfully. Data: 22:54:06&climate_data&{'Climate': {'longitude': 142.5195, 'latitude': -36.6686, 'relative_humidity': 47.0, 'precipitation ': ' 0.00I', 'windspeed_knots': 12.0, 'air_temperature_celcius': 16, 'max_wind_speed': 16.9}}\n",
      "Message published successfully. Data: 22:54:11&climate_data&{'Climate': {'longitude': 143.0246, 'latitude': -37.5865, 'relative_humidity': 53.5, 'precipitation ': ' 0.00I', 'windspeed_knots': 7.3, 'air_temperature_celcius': 17, 'max_wind_speed': 14.0}}\n",
      "Message published successfully. Data: 22:54:16&climate_data&{'Climate': {'longitude': 148.123, 'latitude': -37.406, 'relative_humidity': 44.7, 'precipitation ': ' 0.00G', 'windspeed_knots': 11.4, 'air_temperature_celcius': 12, 'max_wind_speed': 18.1}}\n",
      "Message published successfully. Data: 22:54:21&climate_data&{'Climate': {'longitude': 146.149, 'latitude': -36.294, 'relative_humidity': 57.7, 'precipitation ': ' 0.00I', 'windspeed_knots': 9.9, 'air_temperature_celcius': 20, 'max_wind_speed': 18.1}}\n",
      "Message published successfully. Data: 22:54:26&climate_data&{'Climate': {'longitude': 143.1062, 'latitude': -37.8147, 'relative_humidity': 46.4, 'precipitation ': ' 0.00I', 'windspeed_knots': 9.5, 'air_temperature_celcius': 17, 'max_wind_speed': 20.0}}\n",
      "Message published successfully. Data: 22:54:31&climate_data&{'Climate': {'longitude': 149.297, 'latitude': -37.6, 'relative_humidity': 53.4, 'precipitation ': ' 0.00I', 'windspeed_knots': 10.9, 'air_temperature_celcius': 22, 'max_wind_speed': 19.0}}\n"
     ]
    },
    {
     "ename": "KeyboardInterrupt",
     "evalue": "",
     "output_type": "error",
     "traceback": [
      "\u001b[0;31m---------------------------------------------------------------------------\u001b[0m",
      "\u001b[0;31mKeyboardInterrupt\u001b[0m                         Traceback (most recent call last)",
      "\u001b[0;32m<ipython-input-3-a160d29be2bb>\u001b[0m in \u001b[0;36m<module>\u001b[0;34m()\u001b[0m\n\u001b[1;32m     56\u001b[0m         \u001b[0mdata\u001b[0m \u001b[0;34m=\u001b[0m \u001b[0mstr\u001b[0m\u001b[0;34m(\u001b[0m\u001b[0mdt\u001b[0m\u001b[0;34m.\u001b[0m\u001b[0mdatetime\u001b[0m\u001b[0;34m.\u001b[0m\u001b[0mnow\u001b[0m\u001b[0;34m(\u001b[0m\u001b[0;34m)\u001b[0m\u001b[0;34m.\u001b[0m\u001b[0mstrftime\u001b[0m\u001b[0;34m(\u001b[0m\u001b[0;34m\"%X\"\u001b[0m\u001b[0;34m)\u001b[0m\u001b[0;34m)\u001b[0m \u001b[0;34m+\u001b[0m \u001b[0;34m'&'\u001b[0m \u001b[0;34m+\u001b[0m \u001b[0;34m'climate_data'\u001b[0m \u001b[0;34m+\u001b[0m \u001b[0;34m'&'\u001b[0m \u001b[0;34m+\u001b[0m\u001b[0mstr\u001b[0m\u001b[0;34m(\u001b[0m\u001b[0mclimate_stream_json\u001b[0m\u001b[0;34m[\u001b[0m\u001b[0mrandom\u001b[0m\u001b[0;34m.\u001b[0m\u001b[0mrandrange\u001b[0m\u001b[0;34m(\u001b[0m\u001b[0;36m0\u001b[0m\u001b[0;34m,\u001b[0m\u001b[0mjLength\u001b[0m\u001b[0;34m)\u001b[0m\u001b[0;34m]\u001b[0m\u001b[0;34m)\u001b[0m\u001b[0;34m\u001b[0m\u001b[0m\n\u001b[1;32m     57\u001b[0m         \u001b[0mpublish_message\u001b[0m\u001b[0;34m(\u001b[0m\u001b[0mproducer\u001b[0m\u001b[0;34m,\u001b[0m \u001b[0mtopic\u001b[0m\u001b[0;34m,\u001b[0m \u001b[0;34m'parsed'\u001b[0m\u001b[0;34m,\u001b[0m \u001b[0mdata\u001b[0m\u001b[0;34m)\u001b[0m\u001b[0;34m\u001b[0m\u001b[0m\n\u001b[0;32m---> 58\u001b[0;31m         \u001b[0msleep\u001b[0m\u001b[0;34m(\u001b[0m\u001b[0;36m5\u001b[0m\u001b[0;34m)\u001b[0m\u001b[0;34m\u001b[0m\u001b[0m\n\u001b[0m",
      "\u001b[0;31mKeyboardInterrupt\u001b[0m: "
     ]
    }
   ],
   "source": [
    "# import statements\n",
    "from itertools import groupby\n",
    "import pandas as pd\n",
    "import json as json\n",
    "from time import sleep\n",
    "from json import dumps\n",
    "from kafka import KafkaProducer\n",
    "import random\n",
    "import datetime as dt\n",
    "import random\n",
    "\n",
    "\n",
    "\n",
    "def publish_message(producer_instance, topic_name, key, value):\n",
    "    try:\n",
    "        key_bytes = bytes(key, encoding='utf-8')\n",
    "        value_bytes = bytes(value, encoding='utf-8')\n",
    "        producer_instance.send(topic_name, key=key_bytes, value=value_bytes)\n",
    "        producer_instance.flush()\n",
    "        print('Message published successfully. Data: ' + str(value))\n",
    "    except Exception as ex:\n",
    "        print('Exception in publishing message.')\n",
    "        print(str(ex))\n",
    "        \n",
    "def connect_kafka_producer():\n",
    "    _producer = None\n",
    "    try:\n",
    "        _producer = KafkaProducer(bootstrap_servers=['localhost:9092'],\n",
    "                                  api_version=(0, 10))\n",
    "    except Exception as ex:\n",
    "        print('Exception while connecting Kafka.')\n",
    "        print(str(ex))\n",
    "    finally:\n",
    "        return _producer\n",
    "    \n",
    "if __name__ == '__main__':\n",
    "   \n",
    "    topic = 'climate_hotspot'\n",
    "    \n",
    "    print('Publishing records..')\n",
    "    producer = connect_kafka_producer()\n",
    "    \n",
    "    doc=pd.read_csv(\"climate_streaming.csv\")\n",
    "    jsonFile = json.loads(doc.to_json(orient='records'))\n",
    "    climate_stream_json = []\n",
    "    for k,g in groupby(jsonFile, lambda r : (r)):\n",
    "        for jsonFile in list(g):\n",
    "            climate_stream_json.append({\n",
    "                \"Climate\" :{k : v for k ,v in jsonFile.items()}\n",
    "                 })\n",
    "    \n",
    "    #random.randrange(0,100)\n",
    "    jLength = len(climate_stream_json)\n",
    "    for a in range(0,len(climate_stream_json)):\n",
    "    \n",
    "        data = str(dt.datetime.now().strftime(\"%X\")) + '&' + 'climate_data' + '&' +str(climate_stream_json[random.randrange(0,jLength)])\n",
    "        publish_message(producer, topic, 'parsed', data)\n",
    "        sleep(5) "
   ]
  },
  {
   "cell_type": "code",
   "execution_count": null,
   "metadata": {},
   "outputs": [],
   "source": []
  }
 ],
 "metadata": {
  "kernelspec": {
   "display_name": "Python 3",
   "language": "python",
   "name": "python3"
  },
  "language_info": {
   "codemirror_mode": {
    "name": "ipython",
    "version": 3
   },
   "file_extension": ".py",
   "mimetype": "text/x-python",
   "name": "python",
   "nbconvert_exporter": "python",
   "pygments_lexer": "ipython3",
   "version": "3.5.2"
  }
 },
 "nbformat": 4,
 "nbformat_minor": 2
}
